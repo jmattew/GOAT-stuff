{
  "nbformat": 4,
  "nbformat_minor": 0,
  "metadata": {
    "colab": {
      "provenance": [],
      "authorship_tag": "ABX9TyMz//2I6YKFY7oqRM5GdPb/",
      "include_colab_link": true
    },
    "kernelspec": {
      "name": "python3",
      "display_name": "Python 3"
    },
    "language_info": {
      "name": "python"
    }
  },
  "cells": [
    {
      "cell_type": "markdown",
      "metadata": {
        "id": "view-in-github",
        "colab_type": "text"
      },
      "source": [
        "<a href=\"https://colab.research.google.com/github/jmattew/GOAT-stuff/blob/master/OrbitalVelocityEarthAroundSun.ipynb\" target=\"_parent\"><img src=\"https://colab.research.google.com/assets/colab-badge.svg\" alt=\"Open In Colab\"/></a>"
      ]
    },
    {
      "cell_type": "markdown",
      "source": [
        "$V = \\sqrt\\frac{GM}{R}$, this is the equation we use to calculate orbital velocity."
      ],
      "metadata": {
        "id": "X_hBn7iB4FYe"
      }
    },
    {
      "cell_type": "code",
      "source": [
        "import astropy.constants as const # import python package to call the value of certain constants\n",
        "import astropy.units as u # import a python package to call certain units, e.g., the mass of the Sun\n",
        "import numpy as np # import numpy package which allows us to conduct mathematical operations for the defined quantities."
      ],
      "metadata": {
        "id": "gjs-R5SI6DOu"
      },
      "execution_count": 1,
      "outputs": []
    },
    {
      "cell_type": "code",
      "source": [
        "M = 1 * u.solMass # Need a value and the units to fully describe the value\n",
        "print(M.to(u.kg)) # Print out the mass of the sun in kilograms"
      ],
      "metadata": {
        "colab": {
          "base_uri": "https://localhost:8080/"
        },
        "id": "SCZ1Qpte6blw",
        "outputId": "82ea0591-99b4-4743-c5d6-b042a7686cd8"
      },
      "execution_count": 2,
      "outputs": [
        {
          "output_type": "stream",
          "name": "stdout",
          "text": [
            "1.988409870698051e+30 kg\n"
          ]
        }
      ]
    },
    {
      "cell_type": "code",
      "source": [
        "R = 1 * u.au # Define R as the radius of the Earth's orbit around the Sun in astronomical units\n",
        "print(R.to(u.km)) # printing out the radius of the Earth's orbit in kilometers"
      ],
      "metadata": {
        "colab": {
          "base_uri": "https://localhost:8080/"
        },
        "id": "stQZzbpH7YZl",
        "outputId": "c61a5274-aa16-47bf-bf50-b4603705a96a"
      },
      "execution_count": 3,
      "outputs": [
        {
          "output_type": "stream",
          "name": "stdout",
          "text": [
            "149597870.7 km\n"
          ]
        }
      ]
    },
    {
      "cell_type": "code",
      "source": [
        "G = const.G # Define G as the gravitaitonal constant\n",
        "print(G.si) # print out G in SI units"
      ],
      "metadata": {
        "colab": {
          "base_uri": "https://localhost:8080/"
        },
        "id": "SZiTj5o48v5a",
        "outputId": "2678f74f-f35f-47c9-ea72-b9e132246d6b"
      },
      "execution_count": 4,
      "outputs": [
        {
          "output_type": "stream",
          "name": "stdout",
          "text": [
            "  Name   = Gravitational constant\n",
            "  Value  = 6.6743e-11\n",
            "  Uncertainty  = 1.5e-15\n",
            "  Unit  = m3 / (kg s2)\n",
            "  Reference = CODATA 2018\n"
          ]
        }
      ]
    },
    {
      "cell_type": "code",
      "source": [
        "V = np.sqrt(G * M / R) #calculating orbital velocity of the Earth based on equation at the beginning\n",
        "print(V.to(u.km/u.s)) # print out the orbital velocity of the Earth around the Sun in kilometers per second"
      ],
      "metadata": {
        "colab": {
          "base_uri": "https://localhost:8080/"
        },
        "id": "Pl6bitSx84r1",
        "outputId": "75f90956-c67a-4980-9498-4c262a0cf9f2"
      },
      "execution_count": 5,
      "outputs": [
        {
          "output_type": "stream",
          "name": "stdout",
          "text": [
            "29.784691829676934 km / s\n"
          ]
        }
      ]
    }
  ]
}