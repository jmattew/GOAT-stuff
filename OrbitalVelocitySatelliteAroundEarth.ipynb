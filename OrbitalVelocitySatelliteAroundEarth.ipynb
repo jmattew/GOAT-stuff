{
  "nbformat": 4,
  "nbformat_minor": 0,
  "metadata": {
    "colab": {
      "provenance": [],
      "authorship_tag": "ABX9TyPF55aLN/F7Tg0pw8p1e1Ao",
      "include_colab_link": true
    },
    "kernelspec": {
      "name": "python3",
      "display_name": "Python 3"
    },
    "language_info": {
      "name": "python"
    }
  },
  "cells": [
    {
      "cell_type": "markdown",
      "metadata": {
        "id": "view-in-github",
        "colab_type": "text"
      },
      "source": [
        "<a href=\"https://colab.research.google.com/github/jmattew/GOAT-stuff/blob/master/OrbitalVelocitySatelliteAroundEarth.ipynb\" target=\"_parent\"><img src=\"https://colab.research.google.com/assets/colab-badge.svg\" alt=\"Open In Colab\"/></a>"
      ]
    },
    {
      "cell_type": "markdown",
      "source": [
        "$V = \\sqrt\\frac{GM}{R}$, this is the equation we use to calculate orbital velocity. In this problem we are calculating the orbital velocity of a satellite(the Moon) around the Earth."
      ],
      "metadata": {
        "id": "X_hBn7iB4FYe"
      }
    },
    {
      "cell_type": "code",
      "source": [
        "import astropy.constants as const # import python package to call the value of certain constants\n",
        "import astropy.units as u # import a python package to call certain units, e.g., the mass of the Earth\n",
        "import numpy as np # import numpy package which allows us to conduct mathematical operations for the defined quantities."
      ],
      "metadata": {
        "id": "TpblH3bbREi8"
      },
      "execution_count": 1,
      "outputs": []
    },
    {
      "cell_type": "code",
      "source": [
        "M = 1 * u.M_earth # Need a value and the units to fully describe the value\n",
        "print(M.to(u.kg)) # Print out the mass of the earth in kilograms"
      ],
      "metadata": {
        "colab": {
          "base_uri": "https://localhost:8080/"
        },
        "id": "zsTXQLi0RMDF",
        "outputId": "11d3febf-033e-4c2b-e59d-766bfb9540ae"
      },
      "execution_count": 2,
      "outputs": [
        {
          "output_type": "stream",
          "name": "stdout",
          "text": [
            "5.972167867791379e+24 kg\n"
          ]
        }
      ]
    },
    {
      "cell_type": "code",
      "source": [
        "G = const.G # Define G as the gravitaitonal constant\n",
        "print(G.si) # print out G in SI units"
      ],
      "metadata": {
        "colab": {
          "base_uri": "https://localhost:8080/"
        },
        "id": "Q62ljiHlUEMZ",
        "outputId": "ab9ad27a-8b09-4a82-f25b-0f2cda1d1e67"
      },
      "execution_count": 3,
      "outputs": [
        {
          "output_type": "stream",
          "name": "stdout",
          "text": [
            "  Name   = Gravitational constant\n",
            "  Value  = 6.6743e-11\n",
            "  Uncertainty  = 1.5e-15\n",
            "  Unit  = m3 / (kg s2)\n",
            "  Reference = CODATA 2018\n"
          ]
        }
      ]
    },
    {
      "cell_type": "code",
      "source": [
        "R = 0.00257 * u.au # Define R as the radius of the Moon's orbit around the Earth in astronomical units\n",
        "print(R.to(u.km)) # printing out the radius of the Earth's orbit in kilometers"
      ],
      "metadata": {
        "colab": {
          "base_uri": "https://localhost:8080/"
        },
        "id": "9JbFLTVQUKGm",
        "outputId": "efcc815f-b200-4940-f5a1-15b3e92497ee"
      },
      "execution_count": 4,
      "outputs": [
        {
          "output_type": "stream",
          "name": "stdout",
          "text": [
            "384466.5276989999 km\n"
          ]
        }
      ]
    },
    {
      "cell_type": "code",
      "source": [
        "V = np.sqrt(G * M / R) #calculating orbital velocity of the Earth's satellite(the moon) based on equation at the beginning\n",
        "print(V.to(u.km/u.s)) # print out the orbital velocity of the Moon around the Earth in kilometers per second"
      ],
      "metadata": {
        "colab": {
          "base_uri": "https://localhost:8080/"
        },
        "id": "_mmwRPbiWNSv",
        "outputId": "7b1e57ae-fe29-48d8-e5b5-946adc205f3a"
      },
      "execution_count": 5,
      "outputs": [
        {
          "output_type": "stream",
          "name": "stdout",
          "text": [
            "1.0182152503375033 km / s\n"
          ]
        }
      ]
    }
  ]
}