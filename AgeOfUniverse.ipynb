{
  "nbformat": 4,
  "nbformat_minor": 0,
  "metadata": {
    "colab": {
      "provenance": [],
      "authorship_tag": "ABX9TyP79gC9jdBJ+xmMQeigiAHu",
      "include_colab_link": true
    },
    "kernelspec": {
      "name": "python3",
      "display_name": "Python 3"
    },
    "language_info": {
      "name": "python"
    }
  },
  "cells": [
    {
      "cell_type": "markdown",
      "metadata": {
        "id": "view-in-github",
        "colab_type": "text"
      },
      "source": [
        "<a href=\"https://colab.research.google.com/github/jmattew/GOAT-stuff/blob/master/AgeOfUniverse.ipynb\" target=\"_parent\"><img src=\"https://colab.research.google.com/assets/colab-badge.svg\" alt=\"Open In Colab\"/></a>"
      ]
    },
    {
      "cell_type": "markdown",
      "source": [
        "Hubble Law: V = H x d\n",
        "H = 70 km/s/Mpc\n",
        "1 Mpc = 3 x 10^19 km\n",
        "Age of Universe: T0 = d/v = d/(Hxd) = 1/H"
      ],
      "metadata": {
        "id": "JRrr-w2ADLuQ"
      }
    },
    {
      "cell_type": "code",
      "source": [
        "import astropy.units as u # import a python package to call certain units\n",
        "import astropy.constants as ac # import a python package to call certain constants\n",
        "import numpy as np #import numpy package which allows us to make mathematical operations in python\n",
        "import matplotlib.pyplot as plt # import a python package for plotting a graph"
      ],
      "metadata": {
        "id": "fEFZhaUFDjjU"
      },
      "execution_count": 2,
      "outputs": []
    },
    {
      "cell_type": "code",
      "source": [
        "Hubble = 70 * u.km / u.s / u.Mpc # define Hubble constant\n",
        "Hubble = Hubble / ((3.086 * (10**19))*u.km/u.Mpc) # convert Hubble constant to seconds by using the fact that one megaparsec is 3.086 * 10^19 km\n",
        "age = 1 / Hubble # define variable for age of universe using age of universe equation\n",
        "age = age / 60 / 60 / 24 / 365 * 1/u.s * u.yr# convert age to years\n",
        "print(age) # print age"
      ],
      "metadata": {
        "colab": {
          "base_uri": "https://localhost:8080/"
        },
        "id": "3ctFA4brD8TY",
        "outputId": "780ff157-27be-4039-c675-f94cb294b60d"
      },
      "execution_count": 11,
      "outputs": [
        {
          "output_type": "stream",
          "name": "stdout",
          "text": [
            "13979488294.556787 yr\n"
          ]
        }
      ]
    }
  ]
}