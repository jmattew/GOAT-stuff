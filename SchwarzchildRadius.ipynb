{
  "nbformat": 4,
  "nbformat_minor": 0,
  "metadata": {
    "colab": {
      "provenance": [],
      "authorship_tag": "ABX9TyNBWVSE9vY29Zt/xpAlM2yY",
      "include_colab_link": true
    },
    "kernelspec": {
      "name": "python3",
      "display_name": "Python 3"
    },
    "language_info": {
      "name": "python"
    }
  },
  "cells": [
    {
      "cell_type": "markdown",
      "metadata": {
        "id": "view-in-github",
        "colab_type": "text"
      },
      "source": [
        "<a href=\"https://colab.research.google.com/github/jmattew/GOAT-stuff/blob/master/SchwarzchildRadius.ipynb\" target=\"_parent\"><img src=\"https://colab.research.google.com/assets/colab-badge.svg\" alt=\"Open In Colab\"/></a>"
      ]
    },
    {
      "cell_type": "markdown",
      "source": [],
      "metadata": {
        "id": "mJbZWpHlJRq_"
      }
    },
    {
      "cell_type": "markdown",
      "source": [
        "$V = \\sqrt\\frac{GM}{R}$, this is the equation we use to calculate orbital velocity."
      ],
      "metadata": {
        "id": "X_hBn7iB4FYe"
      }
    },
    {
      "cell_type": "code",
      "source": [
        "import astropy.constants as const # import python package to call the value of certain constants\n",
        "import astropy.units as u # import a python package to call certain units, e.g., the mass of the Sun"
      ],
      "metadata": {
        "id": "gjs-R5SI6DOu"
      },
      "execution_count": null,
      "outputs": []
    },
    {
      "cell_type": "code",
      "source": [
        "M = 1 * u.solMass # Need a value and the units to fully describe the value\n",
        "M = M.to(u.kg) # convert from solar mass into kilograms\n",
        "print(M) # Print out the mass of the sun in kilograms\n",
        "G = const.G # Define G as the gravitaitonal constant\n",
        "print(G.si) # print out G in SI units\n",
        "V = 1 * const.c # get the speed of light\n",
        "print(const.c.to('km/s')) # print out the speed of light in km/s"
      ],
      "metadata": {
        "colab": {
          "base_uri": "https://localhost:8080/"
        },
        "id": "lczS7UpzJphO",
        "outputId": "26f97131-8403-4394-b2cd-be915742c87b"
      },
      "execution_count": null,
      "outputs": [
        {
          "output_type": "stream",
          "name": "stdout",
          "text": [
            "1.988409870698051e+30 kg\n",
            "  Name   = Gravitational constant\n",
            "  Value  = 6.6743e-11\n",
            "  Uncertainty  = 1.5e-15\n",
            "  Unit  = m3 / (kg s2)\n",
            "  Reference = CODATA 2018\n",
            "299792.458 km / s\n"
          ]
        }
      ]
    },
    {
      "cell_type": "code",
      "source": [
        "R = (G * M)/(V * V) # calculate the Schwarzchild radius in meters\n",
        "print(R) # print out the Schwarzchild radius in meters"
      ],
      "metadata": {
        "colab": {
          "base_uri": "https://localhost:8080/"
        },
        "id": "fbEtG03sKsaT",
        "outputId": "33458874-bc70-40ee-a436-04dfd391ed8f"
      },
      "execution_count": null,
      "outputs": [
        {
          "output_type": "stream",
          "name": "stdout",
          "text": [
            "1476.6250380501249 m\n"
          ]
        }
      ]
    }
  ]
}